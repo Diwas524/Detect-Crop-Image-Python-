{
 "cells": [
  {
   "cell_type": "code",
   "execution_count": 2,
   "metadata": {},
   "outputs": [
    {
     "data": {
      "text/plain": [
       "True"
      ]
     },
     "execution_count": 2,
     "metadata": {},
     "output_type": "execute_result"
    }
   ],
   "source": [
    "import cv2\n",
    "\n",
    "image = cv2.imread(\"1.jpg\")\n",
    "gray = cv2.cvtColor(image, cv2.COLOR_BGR2GRAY)\n",
    "\n",
    "faceCascade = cv2.CascadeClassifier(cv2.data.haarcascades + \"haarcascade_frontalface_default.xml\")\n",
    "faces = faceCascade.detectMultiScale(gray,scaleFactor=1.3,minNeighbors=3)\n",
    "\n",
    "\n",
    "for (x, y, w, h) in faces:\n",
    "    #cv2.rectangle(image, (x, y), (x + w, y + h), (0, 255, 0), 2)\n",
    "    crop_img = image[y-5:y+h+5, x-5:x+w+5]\n",
    "\n",
    "resize = cv2.resize(crop_img, (100, 100), interpolation = cv2.INTER_AREA)\n",
    "cv2.imwrite('face_cropped.jpg', resize)\n",
    "#cv2.imshow(\"face\",crop_img)\n",
    "#cv2.waitKey()"
   ]
  },
  {
   "cell_type": "code",
   "execution_count": null,
   "metadata": {},
   "outputs": [],
   "source": []
  }
 ],
 "metadata": {
  "kernelspec": {
   "display_name": "Python 3",
   "language": "python",
   "name": "python3"
  },
  "language_info": {
   "codemirror_mode": {
    "name": "ipython",
    "version": 3
   },
   "file_extension": ".py",
   "mimetype": "text/x-python",
   "name": "python",
   "nbconvert_exporter": "python",
   "pygments_lexer": "ipython3",
   "version": "3.8.2"
  }
 },
 "nbformat": 4,
 "nbformat_minor": 4
}
